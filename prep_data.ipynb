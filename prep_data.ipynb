{
 "cells": [
  {
   "attachments": {},
   "cell_type": "markdown",
   "metadata": {},
   "source": [
    "This notebook is used to extract the samples used in the streamlit app"
   ]
  },
  {
   "cell_type": "code",
   "execution_count": null,
   "metadata": {},
   "outputs": [],
   "source": [
    "import pandas as pd\n",
    "import matplotlib.pyplot as plt\n",
    "import torch\n",
    "import pickle\n",
    "from varname import nameof"
   ]
  },
  {
   "cell_type": "code",
   "execution_count": 2,
   "metadata": {},
   "outputs": [],
   "source": [
    "%load_ext autoreload\n",
    "%autoreload 2\n",
    "from ConRad.conceptModelFinetune import conceptModelFinetune\n",
    "from ConRad.LIDCDataModule import LIDCDataModule"
   ]
  },
  {
   "cell_type": "code",
   "execution_count": 3,
   "metadata": {},
   "outputs": [],
   "source": [
    "device = torch.device(\"mps\")"
   ]
  },
  {
   "cell_type": "code",
   "execution_count": 4,
   "metadata": {},
   "outputs": [],
   "source": [
    "data_path = \"ConRad/dataset\""
   ]
  },
  {
   "cell_type": "code",
   "execution_count": 35,
   "metadata": {},
   "outputs": [],
   "source": [
    "concept_model = conceptModelFinetune().to(device)\n",
    "\n",
    "concept_model.load_state_dict(torch.load(\"ConRad/weights/concept_finetune_0.pt\"))\n",
    "concept_model.eval()\n",
    "\n",
    "data_module_concepts = LIDCDataModule(data_dir=data_path, fold=4, extract=True, finetune=True, labels=\"concepts\")\n",
    "data_module_concepts.setup()\n",
    "\n",
    "data_module_targets = LIDCDataModule(data_dir=data_path, fold=4, extract=True, finetune=True, labels=\"targets\")\n",
    "data_module_targets.setup()"
   ]
  },
  {
   "cell_type": "code",
   "execution_count": 36,
   "metadata": {},
   "outputs": [],
   "source": [
    "scaler = data_module_concepts.get_scaler()"
   ]
  },
  {
   "cell_type": "code",
   "execution_count": 44,
   "metadata": {},
   "outputs": [],
   "source": [
    "batch_targets = next(iter(data_module_targets.test_dataloader()))\n",
    "batch_concepts = next(iter(data_module_concepts.test_dataloader()))"
   ]
  },
  {
   "cell_type": "code",
   "execution_count": 47,
   "metadata": {},
   "outputs": [],
   "source": [
    "samples = batch_targets[0][0]\n",
    "target_labels = batch_targets[1]\n",
    "concept_labels = batch_concepts[1]"
   ]
  },
  {
   "cell_type": "code",
   "execution_count": 74,
   "metadata": {},
   "outputs": [],
   "source": [
    "pickle_dict = {\n",
    "    \"scaler\": scaler,\n",
    "    \"samples\": samples,\n",
    "    \"target_labels\": target_labels,\n",
    "    \"concept_labels\": concept_labels\n",
    "}\n",
    "for k in pickle_dict.items():\n",
    "    with open(f\"example_data/{k[0]}_fold_4.pkl\", \"wb\") as f:\n",
    "        pickle.dump(k[1], f)"
   ]
  },
  {
   "cell_type": "code",
   "execution_count": 1,
   "metadata": {},
   "outputs": [],
   "source": [
    "g = {1:1, 2:2}"
   ]
  },
  {
   "cell_type": "code",
   "execution_count": 9,
   "metadata": {},
   "outputs": [
    {
     "name": "stdout",
     "output_type": "stream",
     "text": [
      "(1, 1)\n",
      "(2, 2)\n"
     ]
    }
   ],
   "source": [
    "for i in sorted(g.items())[:2]:\n",
    "    print(i)"
   ]
  },
  {
   "cell_type": "code",
   "execution_count": 14,
   "metadata": {},
   "outputs": [],
   "source": [
    "from collections import OrderedDict"
   ]
  },
  {
   "cell_type": "code",
   "execution_count": 17,
   "metadata": {},
   "outputs": [],
   "source": [
    "concepts = OrderedDict[\n",
    "    \"subtlety\":[1.0,5.0],\n",
    "    \"calcification\":[1.0,6.0],\n",
    "    \"margin\":[1.0,5.0],\n",
    "    \"lobulation\":[1.0,5.0],\n",
    "    \"spiculation\":[1.0,5.0],\n",
    "    \"diameter\":[2.0,38.0],\n",
    "    \"texture\":[1.0,5.0],\n",
    "    \"sphericity\":[1.0,5.0]\n",
    "]"
   ]
  },
  {
   "cell_type": "code",
   "execution_count": 18,
   "metadata": {},
   "outputs": [
    {
     "data": {
      "text/plain": [
       "collections.OrderedDict[slice('subtlety', [1.0, 5.0], None), slice('calcification', [1.0, 6.0], None), slice('margin', [1.0, 5.0], None), slice('lobulation', [1.0, 5.0], None), slice('spiculation', [1.0, 5.0], None), slice('diameter', [2.0, 38.0], None), slice('texture', [1.0, 5.0], None), slice('sphericity', [1.0, 5.0], None)]"
      ]
     },
     "execution_count": 18,
     "metadata": {},
     "output_type": "execute_result"
    }
   ],
   "source": [
    "concepts"
   ]
  },
  {
   "cell_type": "code",
   "execution_count": 19,
   "metadata": {},
   "outputs": [
    {
     "ename": "TypeError",
     "evalue": "'types.GenericAlias' object is not iterable",
     "output_type": "error",
     "traceback": [
      "\u001b[0;31m---------------------------------------------------------------------------\u001b[0m",
      "\u001b[0;31mTypeError\u001b[0m                                 Traceback (most recent call last)",
      "\u001b[1;32m/Users/lennart/Projects/ConRad_app/prep_data.ipynb Cell 16\u001b[0m in \u001b[0;36m<cell line: 1>\u001b[0;34m()\u001b[0m\n\u001b[0;32m----> <a href='vscode-notebook-cell:/Users/lennart/Projects/ConRad_app/prep_data.ipynb#X20sZmlsZQ%3D%3D?line=0'>1</a>\u001b[0m \u001b[39mfor\u001b[39;00m c \u001b[39min\u001b[39;00m concepts:\n\u001b[1;32m      <a href='vscode-notebook-cell:/Users/lennart/Projects/ConRad_app/prep_data.ipynb#X20sZmlsZQ%3D%3D?line=1'>2</a>\u001b[0m     \u001b[39mprint\u001b[39m(c)\n",
      "\u001b[0;31mTypeError\u001b[0m: 'types.GenericAlias' object is not iterable"
     ]
    }
   ],
   "source": [
    "for c in concepts:\n",
    "    print(c)"
   ]
  },
  {
   "cell_type": "code",
   "execution_count": null,
   "metadata": {},
   "outputs": [],
   "source": []
  }
 ],
 "metadata": {
  "kernelspec": {
   "display_name": "pytorch-gpu",
   "language": "python",
   "name": "python3"
  },
  "language_info": {
   "codemirror_mode": {
    "name": "ipython",
    "version": 3
   },
   "file_extension": ".py",
   "mimetype": "text/x-python",
   "name": "python",
   "nbconvert_exporter": "python",
   "pygments_lexer": "ipython3",
   "version": "3.9.16"
  },
  "orig_nbformat": 4,
  "vscode": {
   "interpreter": {
    "hash": "ab775b227a102664d794987e1cfb3b819c19ac26b840653c4b84061689a7d310"
   }
  }
 },
 "nbformat": 4,
 "nbformat_minor": 2
}
